{
 "cells": [
  {
   "cell_type": "markdown",
   "metadata": {},
   "source": [
    "## creat by 思远"
   ]
  },
  {
   "cell_type": "markdown",
   "metadata": {},
   "source": [
    "## disease-disease "
   ]
  },
  {
   "cell_type": "markdown",
   "metadata": {},
   "source": [
    "{C04;Neoplasms}                      {C17;Skin and Connective Tissue Diseases}  \n",
    "     ↓                                                  ↓  \n",
    "{C04.588;Neoplasms by Site}                  {C17.800;Skin Diseases}  \n",
    "       ↘                                       ↓               ↘\n",
    "          ↘                 {C17.800.090;Breast Diseases}      {a disease}\n",
    "             ↘                     ↙   \n",
    "        {C04.588.180;C17.800.090.500;Breast Neoplasms}  "
   ]
  },
  {
   "cell_type": "markdown",
   "metadata": {},
   "source": [
    "paper: Inferring the human microRNA functional similarity and functional network based on microRNA-associated diseases"
   ]
  },
  {
   "cell_type": "markdown",
   "metadata": {},
   "source": [
    "$DAG_{A}=(A,T_{A},E_{A})$  \n",
    "a disease A, $T_{A}$ is the set of all ancestor nodes of A including node itself, $E_{A}$ is the set of corresponding links  \n",
    "  \n",
    "e.g. if A is Breast Neoplasms,   \n",
    "$T_{A}$={Breast Neoplasms,Breast Diseases,Skin Diseases,Neoplasms by Site,Neoplasms,Skin and Connective Tissue Diseases},  \n",
    "$E_{A}$={Neoplasms by Site->Breast Neoplasms,Neoplasms->Neoplasms by Site,Breast Diseases->Breast Neoplasms,Skin Diseases->Breast Diseases,Skin and Connective Tissue Diseases->Skin Diseases} "
   ]
  },
  {
   "cell_type": "markdown",
   "metadata": {},
   "source": [
    "$\\left\\{\\begin{matrix}D_{A}(A)=1\\\\D_{A}(t)=max\\{\\Delta*D_{A}(t')|t'\\in children\\quad of\\quad t\\} &if & t\\ne A \\end{matrix}\\right.$  \n",
    "$DV(A)=\\sum_{t\\in T_{A}}D_{A}(t)$  \n",
    "  \n",
    "e.g. if A is Breast Neoplasms, set $\\Delta$ is 0.5  \n",
    "$DV(A)$=1.0 (Breast Neoplasms) + 0.5 (Breast Diseases) + 0.5 (Neoplasms by Site) + 0.5 × 0.5  \n",
    "(Neoplasms) + 0.5 × 0.5 (Skin Diseases) + 0.5 × 0.5 × 0.5 (Skin and Connective Sissue Diseases)  \n",
    "= 2.625"
   ]
  },
  {
   "cell_type": "markdown",
   "metadata": {},
   "source": [
    "$S(A,B)=\\frac{\\sum_{t\\in T_{A}\\cap T_{B}}(D_{A}(t)+D_{B}(t))}{DV(A)+DV(B)}$  \n",
    "  \n",
    "e.g. if A is Breast Neoplasms , B is a disease  \n",
    "$S(A,B)=\\frac{0.5+0.5\\times 0.5+0.5\\times 0.5+0.5\\times 0.5\\times 0.5}{2.625+(1+0.5+0.5\\times 0.5)}=0.257142857$"
   ]
  },
  {
   "cell_type": "markdown",
   "metadata": {},
   "source": [
    "## lncRNA-lncRNA miRNA-miRNA"
   ]
  },
  {
   "cell_type": "markdown",
   "metadata": {},
   "source": [
    "a disease group $DT=\\{dt_{1},dt_{2},...,dt_{k}\\}$  \n",
    "similarity of $dt$ and $DT$ $S(dt,DT)=\\max_{1\\le i \\le k}(S(dt,dt_{i}))$  \n",
    "two lncRNAs(miRNAs) $A,B$ consider all diseases $DT_{1},DT_{2}$  \n",
    "$sim(A,B)=\\frac{\\sum_{1\\le i\\le m}S(dt_{1i},DT_{2})+\\sum_{1\\le j \\le n}S(dt_{2j},DT_{1})}{m+n}$  \n",
    "if m=n=0 then $sim(A,B)=0$"
   ]
  },
  {
   "cell_type": "markdown",
   "metadata": {},
   "source": [
    "e.g. lncRNA(miRNA) A,B  \n",
    "$dd=\\left(\\begin{matrix}1&0.1&0.2\\\\0.1&1&0.3\\\\0.2&0.3&1\\end{matrix}\\right)$\n",
    "$ld=\\left(\\begin{matrix}1&1&0\\\\0&1&1\\end{matrix}\\right)$  \n",
    "$DT_{1}=\\{dt_{11}=d_{1},dt_{12}=d_{2}\\},DT_{2}=\\{dt_{21}=d_{2},dt_{22}=d_{3}\\},m=n=2$  \n",
    "$\\sum_{1\\le i\\le m}S(dt_{1i},DT_{2})=S(d_{1},DT_{2})+S(d_{2},DT_{2})=max(S(d_{1},d_{2}),S(d_{1},d_{3}))+max(S(d_{2},d_{2})+S(d_{2},d_{3}))=1.2$  \n",
    "$\\sum_{1\\le j\\le n}S(dt_{2j},DT_{1})=S(d_{2},DT_{1})+S(d_{3},DT_{1})=max(S(d_{2},d_{1})+S(d_{2},d_{2}))+max(S(d_{3},d_{1})+S(d_{3},d_{2}))=1.3$  \n",
    "$sim(A,B)=0.625$"
   ]
  },
  {
   "cell_type": "code",
   "execution_count": null,
   "metadata": {},
   "outputs": [],
   "source": [
    "def calculate_sim(ld,dd):\n",
    "    s1=ld.shape[0]\n",
    "    ll=torch.eye(s1)\n",
    "    m2=dd*ld[:,None,:]\n",
    "    m1=ld[:,:,None]\n",
    "    for x,y in itertools.permutations(torch.linspace(0,s1-1,s1,dtype=torch.long),2):\n",
    "        x,y=x.item(),y.item()\n",
    "        m=m1[x,:,:]*m2[y,:,:]\n",
    "        if ld[x].sum()+ld[y].sum()==0:\n",
    "            ll[x,y]=0\n",
    "        else:\n",
    "            ll[x,y]=(m.max(dim=0,keepdim=True)[0].sum()+m.max(dim=1,keepdim=True)[0].sum())/(ld[x].sum()+ld[y].sum())\n",
    "    return ll"
   ]
  }
 ],
 "metadata": {
  "kernelspec": {
   "display_name": "Python 3 (ipykernel)",
   "language": "python",
   "name": "python3"
  },
  "language_info": {
   "codemirror_mode": {
    "name": "ipython",
    "version": 3
   },
   "file_extension": ".py",
   "mimetype": "text/x-python",
   "name": "python",
   "nbconvert_exporter": "python",
   "pygments_lexer": "ipython3",
   "version": "3.9.7"
  }
 },
 "nbformat": 4,
 "nbformat_minor": 2
}
