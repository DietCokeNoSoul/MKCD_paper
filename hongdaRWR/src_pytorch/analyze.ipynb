{
 "cells": [
  {
   "cell_type": "markdown",
   "source": [],
   "metadata": {}
  },
  {
   "cell_type": "code",
   "execution_count": null,
   "source": [
    "from findFine import *\r\n",
    "import matplotlib.pylab as plt\r\n",
    "import numpy as np\r\n",
    "import os\r\n",
    "from utils import joint,rand_walk\r\n",
    "\r\n",
    "base_dir=r\".\\runs\"\r\n",
    "RD,RRs,DDs=train_data()\r\n"
   ],
   "outputs": [],
   "metadata": {}
  },
  {
   "cell_type": "markdown",
   "source": [
    "# 查看每次交叉验证后的正样本评分分布"
   ],
   "metadata": {}
  },
  {
   "cell_type": "code",
   "execution_count": null,
   "source": [
    "for fold in range(5):\r\n",
    "    fold_dir=fold_path(fold,base_dir)\r\n",
    "    fig,axs=plt.subplots(1,4,figsize=(20,5))\r\n",
    "    scores=np.load(os.path.join(fold_dir,\"test_score.npy\"))\r\n",
    "    mask=np.load(os.path.join(fold_dir,\"test_mask.npy\"))\r\n",
    "    predicts=np.load(os.path.join(fold_dir,\"test_class.npy\"))\r\n",
    "    idx1=np.logical_and(RD==1,mask)\r\n",
    "    idx2=np.logical_and(RD==0,mask)\r\n",
    "    s=scores[idx1]\r\n",
    "    p=predicts[idx1]\r\n",
    "    sn=scores[idx2]\r\n",
    "    axs[0].hist(np.log10(s[s!=0]),bins=100)\r\n",
    "    axs[1].scatter(range(idx1.sum()),s)\r\n",
    "    axs[2].hist(np.log10(sn[sn!=0]),bins=100)\r\n",
    "    axs[3].matshow(predicts)"
   ],
   "outputs": [],
   "metadata": {}
  },
  {
   "cell_type": "markdown",
   "source": [
    "# 查看随机游走产出"
   ],
   "metadata": {}
  },
  {
   "cell_type": "code",
   "execution_count": null,
   "source": [
    "Hs=joint(RRs,DDs,RD)\r\n",
    "n=len(Hs)\r\n",
    "for i,H in enumerate(Hs):\r\n",
    "    rds=rand_walk(0.7,3,H)\r\n",
    "    fig,axs=plt.subplots(1,8,figsize=(32,4))\r\n",
    "    for j,rd in enumerate(rds):\r\n",
    "        axs[j].matshow(rd)\r\n",
    "        axs[4+j].hist(np.log10(rd[rd!=0]),bins=250)"
   ],
   "outputs": [],
   "metadata": {}
  }
 ],
 "metadata": {
  "orig_nbformat": 4,
  "language_info": {
   "name": "python",
   "version": "3.9.5",
   "mimetype": "text/x-python",
   "codemirror_mode": {
    "name": "ipython",
    "version": 3
   },
   "pygments_lexer": "ipython3",
   "nbconvert_exporter": "python",
   "file_extension": ".py"
  },
  "kernelspec": {
   "name": "python3",
   "display_name": "Python 3.9.5 64-bit ('pytorch': conda)"
  },
  "interpreter": {
   "hash": "922a49f0c42612a9b777cd7eb1d661ef5bb07fbb1f118c683a720f017a8fa0f1"
  }
 },
 "nbformat": 4,
 "nbformat_minor": 2
}