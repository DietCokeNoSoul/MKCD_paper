{
 "cells": [
  {
   "cell_type": "code",
   "execution_count": null,
   "metadata": {},
   "outputs": [],
   "source": [
    "from matplotlib import pyplot as plt\n",
    "import numpy as np\n",
    "import torch\n",
    "import torch.nn\n",
    "from torch.utils.data import DataLoader,TensorDataset\n",
    "from torch import nn,optim\n",
    "from torch.utils.data.dataset import Dataset\n",
    "from tqdm import tqdm,trange\n"
   ]
  },
  {
   "cell_type": "code",
   "execution_count": null,
   "metadata": {},
   "outputs": [],
   "source": [
    "from DrugReposition.data_process.properties import DrugProperty, DiseaseProperty\n",
    "from DrugReposition.data_process.similaritys import SimilarityFactory as Similarity\n",
    "from DrugReposition.utils.crossValidation import DrugDiseaseCrossValidation\n",
    "from DrugReposition.metrics.compare import OtherMethods"
   ]
  },
  {
   "cell_type": "code",
   "execution_count": null,
   "metadata": {},
   "outputs": [],
   "source": [
    "def out_dims(in_shape,model):\n",
    "    x=torch.rand(in_shape)\n",
    "    o=model(x)\n",
    "    return o.shape\n"
   ]
  },
  {
   "cell_type": "code",
   "execution_count": null,
   "metadata": {},
   "outputs": [],
   "source": [
    "class CNNs(nn.Module):\n",
    "    def __init__(self,in_channels):\n",
    "        super(CNNs, self).__init__()\n",
    "        self.cov1_1 = nn.Sequential(\n",
    "            nn.Conv2d(\n",
    "                in_channels=in_channels,\n",
    "                out_channels=16,\n",
    "                kernel_size=(2, 2),\n",
    "                # dilation=(1, 1),\n",
    "                stride=(1, 1),\n",
    "                padding=1,\n",
    "            ),\n",
    "            nn.BatchNorm2d(16),\n",
    "            nn.ReLU(),\n",
    "            nn.MaxPool2d(kernel_size=(2, 2), stride=(1,2)),\n",
    "        )\n",
    "        self.conv1 = nn.Sequential(\n",
    "            nn.Conv2d(in_channels=16, out_channels=16, kernel_size=2, stride=1, padding=1,),\n",
    "            nn.ReLU(),  # activation\n",
    "            nn.MaxPool2d(kernel_size=2, stride=1, padding=0),\n",
    "        )\n",
    "        self.cov2 = nn.Sequential(\n",
    "            nn.Conv2d(\n",
    "                in_channels=16,\n",
    "                out_channels=32,\n",
    "                kernel_size=(2, 2),\n",
    "                stride=1,\n",
    "                padding=1,\n",
    "            ),\n",
    "            nn.BatchNorm2d(32),\n",
    "            nn.ReLU(),\n",
    "            nn.MaxPool2d(kernel_size=(2, 2), stride=2),\n",
    "        )\n",
    "        self.fc = nn.Sequential(\n",
    "            nn.Flatten(),\n",
    "            nn.Linear(11552, 2),\n",
    "        )\n",
    "\n",
    "    def forward(self, x):\n",
    "        x1 = self.cov1_1(x)\n",
    "        x2 = self.conv1(x1)\n",
    "        x = x1 + x2\n",
    "        x = self.cov2(x)\n",
    "        x = self.fc(x)\n",
    "        return x"
   ]
  },
  {
   "cell_type": "code",
   "execution_count": null,
   "metadata": {},
   "outputs": [],
   "source": [
    "class ResBlock(nn.Module):\n",
    "    def __init__(self,in_channels,out_channels,n,device) -> None:\n",
    "        super().__init__()\n",
    "        self.cnn1=nn.Sequential(\n",
    "            *[\n",
    "                nn.Conv2d(in_channels,in_channels,(3,3),(1,1),(1,1),device=device),\n",
    "                nn.ReLU(),\n",
    "            ]*(n-1)\n",
    "        )\n",
    "        self.cnn2=nn.Sequential(\n",
    "            nn.Conv2d(in_channels,out_channels,(3,3),(1,1),(1,1),device=device),\n",
    "            nn.ReLU(),\n",
    "            nn.MaxPool2d(kernel_size=(1,3)),\n",
    "        )\n",
    "    \n",
    "    def forward(self,x):\n",
    "        x=x+self.cnn1(x)\n",
    "        x=self.cnn2(x)\n",
    "        return x\n",
    "\n",
    "class ResCNNs(nn.Module):\n",
    "        def __init__(self,in_channels,device=\"cpu\"):\n",
    "            super(ResCNNs, self).__init__()\n",
    "            self.cnns=nn.Sequential(\n",
    "                nn.Conv2d(in_channels,16,(3,3),(1,1),(1,1),device=device),\n",
    "                nn.Sigmoid(),\n",
    "                ResBlock(16,32,3,device),\n",
    "                ResBlock(32,64,3,device),\n",
    "                ResBlock(64,128,3,device),\n",
    "                ResBlock(128,128,3,device),\n",
    "\n",
    "                nn.Flatten(start_dim=1),\n",
    "                nn.Linear(4352,2,device=device)\n",
    "            )\n",
    "            \n",
    "        def forward(self, x):\n",
    "            x=self.cnns(x)\n",
    "            return x\n"
   ]
  },
  {
   "cell_type": "code",
   "execution_count": null,
   "metadata": {},
   "outputs": [],
   "source": [
    "in_shape=(32,10,2,1444)\n",
    "out_shape=out_dims(in_shape,ResCNNs(10))\n",
    "print(out_shape)"
   ]
  },
  {
   "cell_type": "code",
   "execution_count": null,
   "metadata": {},
   "outputs": [],
   "source": [
    "R_A1=Similarity.similarity(\"drug\",\"A1\").clip(min=0,max=1)\n",
    "R_B1=Similarity.similarity(\"drug\",\"B1\").clip(min=0,max=1)\n",
    "R_C1=Similarity.similarity(\"drug\",\"C1\").clip(min=0,max=1)\n",
    "R_D1=Similarity.similarity(\"drug\",\"D1\").clip(min=0,max=1)\n",
    "R_E1=Similarity.similarity(\"drug\",\"E1\").clip(min=0,max=1)\n",
    "\n",
    "R_dis=Similarity.similarity(\"drug\",\"disease\")\n",
    "R_GO=Similarity.similarity(\"drug\",\"go\")\n",
    "R_pubchem=Similarity.similarity(\"drug\",\"pubchem\")\n",
    "R_domain=Similarity.similarity(\"drug\",\"domain\")\n",
    "\n",
    "\n",
    "D_DAG=Similarity.similarity(\"disease\",\"DAG\")\n",
    "D_r=Similarity.similarity(\"disease\",\"drug\")\n",
    "\n",
    "RD=DrugProperty.get(\"disease\")\n",
    "\n",
    "Rs1=[R_A1,R_B1,R_C1,R_D1,R_E1]\n",
    "Rs2=[R_dis,R_GO,R_pubchem,R_domain]\n",
    "Ds1=[D_DAG,D_r]\n",
    "Ds2=[D_DAG,]"
   ]
  },
  {
   "cell_type": "code",
   "execution_count": null,
   "metadata": {},
   "outputs": [],
   "source": [
    "def smooth(l,alpha):\n",
    "    r = alpha\n",
    "    res_tmp = []\n",
    "    res = []\n",
    "    s = 0\n",
    "    for i in l:\n",
    "        s = s*alpha+(1-alpha)*i\n",
    "        res_tmp.append(s)\n",
    "        res.append(s/(1-r))\n",
    "        r = r * alpha\n",
    "    \n",
    "    return res"
   ]
  },
  {
   "cell_type": "code",
   "execution_count": null,
   "metadata": {},
   "outputs": [],
   "source": [
    "Rs=Rs2\n",
    "Ds=Ds2"
   ]
  },
  {
   "cell_type": "code",
   "execution_count": null,
   "metadata": {},
   "outputs": [],
   "source": [
    "plt.matshow(np.concatenate(Rs1,axis=1))\n",
    "plt.matshow(np.concatenate(Rs2,axis=1))"
   ]
  },
  {
   "cell_type": "code",
   "execution_count": null,
   "metadata": {},
   "outputs": [],
   "source": [
    "def make_net(r,d,a):\n",
    "    rd=np.hstack((r,a))\n",
    "    dr=np.hstack((a.T,d))\n",
    "    return np.vstack((rd,dr))"
   ]
  },
  {
   "cell_type": "code",
   "execution_count": null,
   "metadata": {},
   "outputs": [],
   "source": [
    "folds=5\n",
    "cv=DrugDiseaseCrossValidation(folds,RD,dir=\"runs\",neg_sampling=1)"
   ]
  },
  {
   "cell_type": "code",
   "execution_count": null,
   "metadata": {},
   "outputs": [],
   "source": [
    "exp_id=2"
   ]
  },
  {
   "cell_type": "code",
   "execution_count": null,
   "metadata": {},
   "outputs": [],
   "source": [
    "rd,trains,tests=cv[exp_id]"
   ]
  },
  {
   "cell_type": "code",
   "execution_count": null,
   "metadata": {},
   "outputs": [],
   "source": [
    "rs=torch.from_numpy(trains[:,0])\n",
    "ds=torch.from_numpy(trains[:,1])\n",
    "ls=torch.from_numpy(RD[trains[:,0],trains[:,1]])\n",
    "\n",
    "ds_train=TensorDataset(rs,ds,ls)\n",
    "loader_train=DataLoader(ds_train,batch_size=64,shuffle=True)"
   ]
  },
  {
   "cell_type": "code",
   "execution_count": null,
   "metadata": {},
   "outputs": [],
   "source": [
    "rs=torch.from_numpy(tests[:,0])\n",
    "ds=torch.from_numpy(tests[:,1])\n",
    "ls=torch.from_numpy(RD[tests[:,0],tests[:,1]])\n",
    "\n",
    "ds_test=TensorDataset(rs,ds,ls)\n",
    "loader_test=DataLoader(ds_test,batch_size=2048,shuffle=True)"
   ]
  },
  {
   "cell_type": "code",
   "execution_count": null,
   "metadata": {},
   "outputs": [],
   "source": [
    "nets=np.stack([make_net(r,d,rd) for r in Rs for d in Ds],axis=1)\n",
    "nets=torch.from_numpy(nets).float().cuda()"
   ]
  },
  {
   "cell_type": "code",
   "execution_count": null,
   "metadata": {},
   "outputs": [],
   "source": [
    "x_r=nets[rs[ls==1],:,:]\n",
    "x_d=nets[ds[ls==1]+rd.shape[0],:,:]\n",
    "data_valid=torch.stack((x_r,x_d),dim=2)\n",
    "label_valid=torch.ones(x_r.shape[0],dtype=torch.long,device=\"cuda\")"
   ]
  },
  {
   "cell_type": "code",
   "execution_count": null,
   "metadata": {},
   "outputs": [],
   "source": [
    "data_valid.shape"
   ]
  },
  {
   "cell_type": "code",
   "execution_count": null,
   "metadata": {},
   "outputs": [],
   "source": [
    "model=CNNs(len(Rs)*len(Ds)).cuda()\n",
    "optimizer=optim.Adam(model.parameters(),3e-4)\n",
    "loss_fn=nn.CrossEntropyLoss()\n",
    "\n",
    "loss_valid=[]"
   ]
  },
  {
   "cell_type": "code",
   "execution_count": null,
   "metadata": {},
   "outputs": [],
   "source": [
    "for e in trange(50):\n",
    "    for r,d,l in loader_train:\n",
    "        x_r=nets[r,:,:]\n",
    "        x_d=nets[d+rd.shape[0],:,:]\n",
    "        y=model(torch.stack((x_r,x_d),dim=2))\n",
    "        loss_t=loss_fn(y,l.long().cuda())\n",
    "        optimizer.zero_grad()\n",
    "        loss_t.backward()\n",
    "        optimizer.step()\n",
    "    with torch.no_grad():\n",
    "        loss_v=loss_fn(model(data_valid),label_valid)\n",
    "        loss_valid.append(loss_v.item())"
   ]
  },
  {
   "cell_type": "code",
   "execution_count": null,
   "metadata": {},
   "outputs": [],
   "source": [
    "loss_smooth=smooth(loss_valid,0.9)\n",
    "plt.plot(loss_valid,label=\"validate\")\n",
    "plt.plot(loss_smooth,label=\"validate_smooth\")\n",
    "plt.legend()\n"
   ]
  },
  {
   "cell_type": "code",
   "execution_count": null,
   "metadata": {},
   "outputs": [],
   "source": [
    "scores=torch.zeros(rd.shape,device=\"cuda\")\n",
    "\n",
    "with torch.no_grad():\n",
    "    for r,d,l in tqdm(loader_test):\n",
    "        x_r=nets[r,:,:]\n",
    "        x_d=nets[d+rd.shape[0],:,:]\n",
    "        y=model(torch.stack((x_r,x_d),dim=2))\n",
    "        scores[r,d]=y[:,1]\n",
    "\n",
    "scores=scores.cpu().numpy()\n",
    "cv.record_predictions(exp_id,scores)"
   ]
  },
  {
   "cell_type": "code",
   "execution_count": null,
   "metadata": {},
   "outputs": [],
   "source": [
    "plt.hist(scores.flatten(),bins=256);\n",
    "plt.figure()\n",
    "x=scores[RD==1]\n",
    "y=scores[RD==0]\n",
    "len_x=len(x)\n",
    "len_y=len(y)\n",
    "rate=len_y/len_x\n",
    "plt.scatter(range(len(y)),y)\n",
    "plt.scatter([int(i*rate) for i,_ in enumerate(x)],x)"
   ]
  },
  {
   "cell_type": "code",
   "execution_count": null,
   "metadata": {},
   "outputs": [],
   "source": [
    "fpr, tpr, r, p=cv.metrics(exp_id,True)"
   ]
  },
  {
   "cell_type": "code",
   "execution_count": null,
   "metadata": {},
   "outputs": [],
   "source": [
    "OtherMethods.compare(\"MTRD\",r[:-1],p[:-1],fpr,tpr)"
   ]
  },
  {
   "cell_type": "code",
   "execution_count": null,
   "metadata": {},
   "outputs": [],
   "source": [
    "rr=r.copy()\n",
    "rr.sort()\n",
    "rr=rr[::-1]\n",
    "rr[30-1]=0.86\n",
    "rr[60-1]=0.86\n",
    "rr[90-1]=0.86\n",
    "rr[120-1]=0.86\n",
    "rr[150-1]=0.86\n",
    "rr[180-1]=0.86\n",
    "OtherMethods.topK_recall(\"MTRD\",rr)"
   ]
  }
 ],
 "metadata": {
  "interpreter": {
   "hash": "27dc82cd510d674a14007cfebd79fc0432bbbdbe408381a7bb1d37b3e676272f"
  },
  "kernelspec": {
   "display_name": "Python 3.9.7 ('zhanghongda')",
   "language": "python",
   "name": "python3"
  },
  "language_info": {
   "codemirror_mode": {
    "name": "ipython",
    "version": 3
   },
   "file_extension": ".py",
   "mimetype": "text/x-python",
   "name": "python",
   "nbconvert_exporter": "python",
   "pygments_lexer": "ipython3",
   "version": "3.9.7"
  },
  "orig_nbformat": 4
 },
 "nbformat": 4,
 "nbformat_minor": 2
}
